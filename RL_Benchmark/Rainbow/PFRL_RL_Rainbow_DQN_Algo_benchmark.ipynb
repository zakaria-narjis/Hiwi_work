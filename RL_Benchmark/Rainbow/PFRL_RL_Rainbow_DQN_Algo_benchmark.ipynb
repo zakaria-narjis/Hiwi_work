{
  "cells": [
    {
      "cell_type": "code",
      "execution_count": 1,
      "metadata": {
        "id": "FVYf8NQEjdLX"
      },
      "outputs": [],
      "source": [
        "%%capture\n",
        "!pip install --upgrade pip\n",
        "!pip install gymnasium\n",
        "!pip install pfrl"
      ]
    },
    {
      "cell_type": "code",
      "execution_count": 2,
      "metadata": {
        "id": "n7flutsIjkkg"
      },
      "outputs": [],
      "source": [
        "import pfrl\n",
        "import torch\n",
        "from torch import nn\n",
        "import gymnasium as gym\n",
        "from gymnasium import spaces\n",
        "import numpy as np\n",
        "import tensorflow as tf\n",
        "import random"
      ]
    },
    {
      "cell_type": "code",
      "execution_count": 3,
      "metadata": {
        "colab": {
          "base_uri": "https://localhost:8080/"
        },
        "id": "9l9YMkUKjl7K",
        "outputId": "6f403e32-f997-4528-97b0-265e1d1e6cc9"
      },
      "outputs": [
        {
          "name": "stdout",
          "output_type": "stream",
          "text": [
            "Downloading data from https://www.cs.toronto.edu/~kriz/cifar-10-python.tar.gz\n"
          ]
        },
        {
          "name": "stderr",
          "output_type": "stream",
          "text": [
            "/usr/local/lib/python3.10/dist-packages/ipykernel/ipkernel.py:283: DeprecationWarning: `should_run_async` will not call `transform_cell` automatically in the future. Please pass the result to `transformed_cell` argument and any exception that happen during thetransform in `preprocessing_exc_tuple` in IPython 7.17 and above.\n",
            "  and should_run_async(code)\n"
          ]
        },
        {
          "name": "stdout",
          "output_type": "stream",
          "text": [
            "170498071/170498071 [==============================] - 15s 0us/step\n"
          ]
        }
      ],
      "source": [
        "(x_train, y_train), (x_test, y_test) = tf.keras.datasets.cifar10.load_data()\n",
        "assert x_train.shape == (50000, 32, 32, 3)\n",
        "assert x_test.shape == (10000, 32, 32, 3)\n",
        "assert y_train.shape == (50000, 1)\n",
        "assert y_test.shape == (10000, 1)"
      ]
    },
    {
      "cell_type": "code",
      "execution_count": 4,
      "metadata": {
        "id": "AABLY7Yajo-3"
      },
      "outputs": [],
      "source": [
        "class CifarEnv(gym.Env):\n",
        "\n",
        "    def __init__(self,):\n",
        "\n",
        "        self.observation_space = spaces.Box(low=0, high=255, shape=(32, 32, 3), dtype=np.uint8)\n",
        "\n",
        "        self.action_space = spaces.Discrete(10)\n",
        "        self.expected_action = 0\n",
        "\n",
        "        # assert render_mode is None or render_mode in self.metadata[\"render_modes\"]\n",
        "        self.render_mode = None\n",
        "        self.x, self.y = (x_train, y_train)\n",
        "        self.random = True\n",
        "        self.images_per_episode = 1\n",
        "        self.dataset_idx = 0\n",
        "\n",
        "    def _get_info(self):\n",
        "      return 0\n",
        "\n",
        "    def step(self, action):\n",
        "        done = False\n",
        "        reward = int(action == self.expected_action)\n",
        "\n",
        "        obs = self._next_obs()\n",
        "\n",
        "        self.step_count += 1\n",
        "        if self.step_count >= self.images_per_episode:\n",
        "            done = True\n",
        "\n",
        "        return obs, reward, done, {}\n",
        "\n",
        "    def reset(self, seed=None, options=None):\n",
        "        self.step_count = 0\n",
        "        obs = self._next_obs()\n",
        "        return obs\n",
        "\n",
        "    def _next_obs(self):\n",
        "        if self.random:\n",
        "            next_obs_idx = random.randint(0, len(self.x) - 1)\n",
        "            self.expected_action = int(self.y[next_obs_idx])\n",
        "            obs = self.x[next_obs_idx]\n",
        "\n",
        "        else:\n",
        "            obs = self.x[self.dataset_idx]\n",
        "            self.expected_action = int(self.y[self.dataset_idx])\n",
        "\n",
        "            self.dataset_idx += 1\n",
        "            if self.dataset_idx >= len(self.x):\n",
        "                raise StopIteration()\n",
        "\n",
        "        return obs\n",
        "\n",
        "class CifarEnvTest(gym.Env):\n",
        "\n",
        "    def __init__(self,):\n",
        "\n",
        "        self.observation_space = spaces.Box(low=0, high=255, shape=(32, 32, 3), dtype=np.uint8)\n",
        "\n",
        "        self.action_space = spaces.Discrete(10)\n",
        "        self.expected_action = 0\n",
        "\n",
        "        # assert render_mode is None or render_mode in self.metadata[\"render_modes\"]\n",
        "        self.render_mode = None\n",
        "        self.x, self.y = (x_test, y_test)\n",
        "        self.random = True\n",
        "        self.images_per_episode = 10000\n",
        "        self.dataset_idx = 0\n",
        "\n",
        "    def _get_info(self):\n",
        "      return 0\n",
        "\n",
        "    def step(self, action):\n",
        "        done = False\n",
        "        reward = int(action == self.expected_action)\n",
        "\n",
        "        obs = self._next_obs()\n",
        "\n",
        "        self.step_count += 1\n",
        "        if self.step_count >= self.images_per_episode:\n",
        "            done = True\n",
        "\n",
        "        return obs, reward, done, {}\n",
        "\n",
        "    def reset(self, seed=None, options=None):\n",
        "        self.step_count = 0\n",
        "        obs = self._next_obs()\n",
        "        return obs\n",
        "\n",
        "    def _next_obs(self):\n",
        "        if self.random:\n",
        "            next_obs_idx = random.randint(0, len(self.x) - 1)\n",
        "            self.expected_action = int(self.y[next_obs_idx])\n",
        "            obs = self.x[next_obs_idx]\n",
        "\n",
        "        else:\n",
        "            obs = self.x[self.dataset_idx]\n",
        "            self.expected_action = int(self.y[self.dataset_idx])\n",
        "\n",
        "            self.dataset_idx += 1\n",
        "            if self.dataset_idx >= len(self.x):\n",
        "                raise StopIteration()\n",
        "\n",
        "        return obs"
      ]
    },
    {
      "cell_type": "code",
      "execution_count": 5,
      "metadata": {
        "id": "hq-Nq0BkjrAF"
      },
      "outputs": [],
      "source": [
        "env = CifarEnv()\n",
        "test_env = CifarEnvTest()"
      ]
    },
    {
      "cell_type": "code",
      "execution_count": 16,
      "metadata": {
        "id": "5jKgjQDRlmW1"
      },
      "outputs": [],
      "source": [
        "import torch\n",
        "import torch.nn as nn\n",
        "import torch.nn.functional as F\n",
        "\n",
        "class DistributionalDuelingDQN(nn.Module, pfrl.q_function.StateQFunction):\n",
        "    \"\"\"Distributional dueling fully-connected Q-function with discrete actions.\"\"\"\n",
        "\n",
        "    def __init__(\n",
        "        self,\n",
        "        n_actions,\n",
        "        n_atoms=41,\n",
        "        v_min = 0,\n",
        "        v_max = 1, \n",
        "        n_input_channels=3,\n",
        "        activation=torch.relu,\n",
        "        bias=0.1,\n",
        "    ):\n",
        "        assert n_atoms >= 2\n",
        "        assert v_min < v_max\n",
        "\n",
        "        self.n_actions = n_actions\n",
        "        self.n_input_channels = n_input_channels\n",
        "        self.activation = activation\n",
        "        self.n_atoms = n_atoms\n",
        "\n",
        "        super().__init__()\n",
        "        self.z_values = torch.linspace(v_min, v_max, n_atoms, dtype=torch.float32)\n",
        "\n",
        "        self.network = nn.Sequential(\n",
        "            nn.Conv2d(3, 32, kernel_size=3, padding=1),\n",
        "            nn.ReLU(),\n",
        "            nn.Conv2d(32, 64, kernel_size=3, stride=1, padding=1),\n",
        "            nn.ReLU(),\n",
        "            nn.MaxPool2d(2, 2), # output: 64 x 16 x 16\n",
        "            nn.BatchNorm2d(64),\n",
        "\n",
        "            nn.Conv2d(64, 128, kernel_size=3, stride=1, padding=1),\n",
        "            nn.ReLU(),\n",
        "            nn.Conv2d(128, 128, kernel_size=3, stride=1, padding=1),\n",
        "            nn.ReLU(),\n",
        "            nn.MaxPool2d(2, 2), # output: 128 x 8 x 8\n",
        "            nn.BatchNorm2d(128),\n",
        "\n",
        "            nn.Conv2d(128, 256, kernel_size=3, stride=1, padding=1),\n",
        "            nn.ReLU(),\n",
        "            nn.Conv2d(256, 256, kernel_size=3, stride=1, padding=1),\n",
        "            nn.ReLU(),\n",
        "            nn.MaxPool2d(2, 2), # output: 256 x 4 x 4\n",
        "            nn.BatchNorm2d(256),\n",
        "            )\n",
        "\n",
        "        self.main_stream = nn.Linear(4096, 1024)\n",
        "        self.a_stream = nn.Linear(512, n_actions * n_atoms)\n",
        "        self.v_stream = nn.Linear(512, n_atoms)\n",
        "\n",
        "    def forward(self, x):\n",
        "\n",
        "        h = self.network(x)\n",
        "\n",
        "        # Advantage\n",
        "        batch_size = x.shape[0]\n",
        "\n",
        "        h = self.activation(self.main_stream(h.view(batch_size, -1)))\n",
        "        h_a, h_v = torch.chunk(h, 2, dim=1)\n",
        "        ya = self.a_stream(h_a).reshape((batch_size, self.n_actions, self.n_atoms))\n",
        "\n",
        "        mean = ya.sum(dim=1, keepdim=True) / self.n_actions\n",
        "\n",
        "        ya, mean = torch.broadcast_tensors(ya, mean)\n",
        "        ya -= mean\n",
        "\n",
        "        # State value\n",
        "        ys = self.v_stream(h_v).reshape((batch_size, 1, self.n_atoms))\n",
        "        ya, ys = torch.broadcast_tensors(ya, ys)\n",
        "        q = F.softmax(ya + ys, dim=2)\n",
        "\n",
        "        self.z_values = self.z_values.to(x.device)\n",
        "        return pfrl.action_value.DistributionalDiscreteActionValue(q, self.z_values)\n",
        "\n",
        "obs_size = env.observation_space.low.size\n",
        "n_actions = env.action_space.n\n",
        "q_func = DistributionalDuelingDQN(10)"
      ]
    },
    {
      "cell_type": "code",
      "execution_count": 17,
      "metadata": {
        "id": "yqxpD8HonZni"
      },
      "outputs": [],
      "source": [
        "# Use Adam to optimize q_func. eps=1e-2 is for stability.\n",
        "optimizer = torch.optim.Adam(q_func.parameters(), eps=1e-2)\n",
        "# Set the discount factor that discounts future rewards.\n",
        "gamma = 1\n",
        "\n",
        "# Use epsilon-greedy for exploration\n",
        "explorer = pfrl.explorers.ConstantEpsilonGreedy(\n",
        "    epsilon=0.3, random_action_func=env.action_space.sample)\n",
        "explorer_2 = pfrl.explorers.LinearDecayEpsilonGreedy(start_epsilon=0.9, end_epsilon=0.01, decay_steps=50000, random_action_func = env.action_space.sample)\n",
        "# DQN uses Experience Replay.\n",
        "# Specify a replay buffer and its capacity.\n",
        "replay_buffer = pfrl.replay_buffers.PrioritizedReplayBuffer(capacity=10 ** 6)\n",
        "\n",
        "# Since observations from CartPole-v0 is numpy.float64 while\n",
        "# As PyTorch only accepts numpy.float32 by default, specify\n",
        "# a converter as a feature extractor function phi.\n",
        "phi = lambda x:np.resize(x/255.0,(3,32,32)).astype(np.float32, copy=False)\n",
        "\n",
        "# Set the device id to use GPU. To use CPU only, set it to -1.\n",
        "gpu = 0\n",
        "\n",
        "agent = pfrl.agents.CategoricalDoubleDQN(\n",
        "        q_func,\n",
        "        optimizer,\n",
        "        replay_buffer,\n",
        "        gpu= gpu,\n",
        "        gamma=gamma,\n",
        "        explorer=explorer_2,\n",
        "        minibatch_size=32,\n",
        "        replay_start_size=10000,\n",
        "        target_update_interval=10000,\n",
        "        update_interval=1,\n",
        "        batch_accumulator=\"mean\",\n",
        "        phi=phi,\n",
        "    )"
      ]
    },
    {
      "cell_type": "code",
      "execution_count": 18,
      "metadata": {
        "colab": {
          "base_uri": "https://localhost:8080/"
        },
        "id": "3i9G6ahGon6r",
        "outputId": "a99878f3-8007-41b9-b6eb-8755ef84ca78"
      },
      "outputs": [
        {
          "data": {
            "text/plain": [
              "(<pfrl.agents.categorical_double_dqn.CategoricalDoubleDQN at 0x794f099066e0>,\n",
              " [{'average_q': 0.18282156,\n",
              "   'average_loss': 0.04435203477100003,\n",
              "   'cumulative_steps': 20000,\n",
              "   'n_updates': 10001,\n",
              "   'rlen': 20000,\n",
              "   'eval_score': 3327.0},\n",
              "  {'average_q': 0.2665403,\n",
              "   'average_loss': 0.03305000337830279,\n",
              "   'cumulative_steps': 40000,\n",
              "   'n_updates': 30001,\n",
              "   'rlen': 40000,\n",
              "   'eval_score': 3878.0},\n",
              "  {'average_q': 0.33086088,\n",
              "   'average_loss': 0.032989617517450824,\n",
              "   'cumulative_steps': 60000,\n",
              "   'n_updates': 50001,\n",
              "   'rlen': 60000,\n",
              "   'eval_score': 4119.0},\n",
              "  {'average_q': 0.40977734,\n",
              "   'average_loss': 0.03238331888627727,\n",
              "   'cumulative_steps': 80000,\n",
              "   'n_updates': 70001,\n",
              "   'rlen': 80000,\n",
              "   'eval_score': 4268.0},\n",
              "  {'average_q': 0.41221794,\n",
              "   'average_loss': 0.02787562897079624,\n",
              "   'cumulative_steps': 100000,\n",
              "   'n_updates': 90001,\n",
              "   'rlen': 100000,\n",
              "   'eval_score': 4347.0}])"
            ]
          },
          "execution_count": 18,
          "metadata": {},
          "output_type": "execute_result"
        }
      ],
      "source": [
        "# Set up the logger to print info messages for understandability.\n",
        "import logging\n",
        "import sys\n",
        "import time\n",
        "start_time = time.time()\n",
        "logging.basicConfig(level=logging.INFO, stream=sys.stdout, format='')\n",
        "eval_ep = 10000\n",
        "pfrl.experiments.train_agent_with_evaluation(\n",
        "    agent,\n",
        "    env,\n",
        "    steps=100000,           # Train the agent for 2000 steps\n",
        "    eval_n_steps=None,       # We evaluate for episodes, not time\n",
        "    eval_n_episodes=1,       # 10 episodes are sampled for each evaluation\n",
        "    train_max_episode_len=1,  # Maximum length of each episode\n",
        "    eval_max_episode_len=10000,\n",
        "    eval_interval=20000,   # Evaluate the agent after every 1000 steps\n",
        "    outdir='result',      # Save everything to 'result' directory\n",
        "    eval_env = test_env,\n",
        ")"
      ]
    },
    {
      "cell_type": "code",
      "execution_count": 19,
      "metadata": {
        "colab": {
          "base_uri": "https://localhost:8080/"
        },
        "id": "ZcbiKAmxsdSG",
        "outputId": "aeb432e1-1a7d-49b8-ad50-2b72cb10e20f"
      },
      "outputs": [
        {
          "name": "stdout",
          "output_type": "stream",
          "text": [
            "DQN Training Time: 1967.3128566741943\n"
          ]
        }
      ],
      "source": [
        "print(\"DQN Training Time:\", time.time() - start_time)"
      ]
    }
  ],
  "metadata": {
    "accelerator": "GPU",
    "colab": {
      "gpuType": "T4",
      "provenance": []
    },
    "kernelspec": {
      "display_name": "Python 3",
      "name": "python3"
    },
    "language_info": {
      "name": "python"
    }
  },
  "nbformat": 4,
  "nbformat_minor": 0
}
