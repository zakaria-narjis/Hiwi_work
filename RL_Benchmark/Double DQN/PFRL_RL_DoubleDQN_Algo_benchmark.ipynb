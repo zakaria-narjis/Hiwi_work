{
  "nbformat": 4,
  "nbformat_minor": 0,
  "metadata": {
    "colab": {
      "provenance": [],
      "gpuType": "T4"
    },
    "kernelspec": {
      "name": "python3",
      "display_name": "Python 3"
    },
    "language_info": {
      "name": "python"
    },
    "accelerator": "GPU"
  },
  "cells": [
    {
      "cell_type": "code",
      "execution_count": 1,
      "metadata": {
        "id": "isiU2YPnqRaT"
      },
      "outputs": [],
      "source": [
        "%%capture\n",
        "!pip install --upgrade pip\n",
        "!pip install gymnasium\n",
        "!pip install pfrl"
      ]
    },
    {
      "cell_type": "code",
      "source": [
        "import pfrl\n",
        "import torch\n",
        "from torch import nn\n",
        "import gymnasium as gym\n",
        "from gymnasium import spaces\n",
        "import numpy as np\n",
        "import tensorflow as tf\n",
        "import random"
      ],
      "metadata": {
        "id": "HRjqefjQ0mbk"
      },
      "execution_count": 2,
      "outputs": []
    },
    {
      "cell_type": "code",
      "source": [
        "(x_train, y_train), (x_test, y_test) = tf.keras.datasets.cifar10.load_data()\n",
        "assert x_train.shape == (50000, 32, 32, 3)\n",
        "assert x_test.shape == (10000, 32, 32, 3)\n",
        "assert y_train.shape == (50000, 1)\n",
        "assert y_test.shape == (10000, 1)"
      ],
      "metadata": {
        "colab": {
          "base_uri": "https://localhost:8080/"
        },
        "id": "2AAURSSa01p8",
        "outputId": "8af30fe7-1881-4c9c-d73a-aaae7b77ff79"
      },
      "execution_count": 3,
      "outputs": [
        {
          "output_type": "stream",
          "name": "stdout",
          "text": [
            "Downloading data from https://www.cs.toronto.edu/~kriz/cifar-10-python.tar.gz\n",
            "     8192/170498071 [..............................] - ETA: 0s"
          ]
        },
        {
          "output_type": "stream",
          "name": "stderr",
          "text": [
            "/usr/local/lib/python3.10/dist-packages/ipykernel/ipkernel.py:283: DeprecationWarning: `should_run_async` will not call `transform_cell` automatically in the future. Please pass the result to `transformed_cell` argument and any exception that happen during thetransform in `preprocessing_exc_tuple` in IPython 7.17 and above.\n",
            "  and should_run_async(code)\n"
          ]
        },
        {
          "output_type": "stream",
          "name": "stdout",
          "text": [
            "170498071/170498071 [==============================] - 2s 0us/step\n"
          ]
        }
      ]
    },
    {
      "cell_type": "code",
      "source": [
        "class CifarEnv(gym.Env):\n",
        "\n",
        "    def __init__(self,):\n",
        "\n",
        "        self.observation_space = spaces.Box(low=0, high=255, shape=(32, 32, 3), dtype=np.uint8)\n",
        "\n",
        "        self.action_space = spaces.Discrete(10)\n",
        "        self.expected_action = 0\n",
        "\n",
        "        # assert render_mode is None or render_mode in self.metadata[\"render_modes\"]\n",
        "        self.render_mode = None\n",
        "        self.x, self.y = (x_train, y_train)\n",
        "        self.random = True\n",
        "        self.images_per_episode = 1\n",
        "        self.dataset_idx = 0\n",
        "\n",
        "    def _get_info(self):\n",
        "      return 0\n",
        "\n",
        "    def step(self, action):\n",
        "        done = False\n",
        "        reward = int(action == self.expected_action)\n",
        "\n",
        "        obs = self._next_obs()\n",
        "\n",
        "        self.step_count += 1\n",
        "        if self.step_count >= self.images_per_episode:\n",
        "            done = True\n",
        "\n",
        "        return obs, reward, done, {}\n",
        "\n",
        "    def reset(self, seed=None, options=None):\n",
        "        self.step_count = 0\n",
        "        obs = self._next_obs()\n",
        "        return obs\n",
        "\n",
        "    def _next_obs(self):\n",
        "        if self.random:\n",
        "            next_obs_idx = random.randint(0, len(self.x) - 1)\n",
        "            self.expected_action = int(self.y[next_obs_idx])\n",
        "            obs = self.x[next_obs_idx]\n",
        "\n",
        "        else:\n",
        "            obs = self.x[self.dataset_idx]\n",
        "            self.expected_action = int(self.y[self.dataset_idx])\n",
        "\n",
        "            self.dataset_idx += 1\n",
        "            if self.dataset_idx >= len(self.x):\n",
        "                raise StopIteration()\n",
        "\n",
        "        return obs\n",
        "\n",
        "class CifarEnvTest(gym.Env):\n",
        "\n",
        "    def __init__(self,):\n",
        "\n",
        "        self.observation_space = spaces.Box(low=0, high=255, shape=(32, 32, 3), dtype=np.uint8)\n",
        "\n",
        "        self.action_space = spaces.Discrete(10)\n",
        "        self.expected_action = 0\n",
        "\n",
        "        # assert render_mode is None or render_mode in self.metadata[\"render_modes\"]\n",
        "        self.render_mode = None\n",
        "        self.x, self.y = (x_test, y_test)\n",
        "        self.random = True\n",
        "        self.images_per_episode = 10000\n",
        "        self.dataset_idx = 0\n",
        "\n",
        "    def _get_info(self):\n",
        "      return 0\n",
        "\n",
        "    def step(self, action):\n",
        "        done = False\n",
        "        reward = int(action == self.expected_action)\n",
        "\n",
        "        obs = self._next_obs()\n",
        "\n",
        "        self.step_count += 1\n",
        "        if self.step_count >= self.images_per_episode:\n",
        "            done = True\n",
        "\n",
        "        return obs, reward, done, {}\n",
        "\n",
        "    def reset(self, seed=None, options=None):\n",
        "        self.step_count = 0\n",
        "        obs = self._next_obs()\n",
        "        return obs\n",
        "\n",
        "    def _next_obs(self):\n",
        "        if self.random:\n",
        "            next_obs_idx = random.randint(0, len(self.x) - 1)\n",
        "            self.expected_action = int(self.y[next_obs_idx])\n",
        "            obs = self.x[next_obs_idx]\n",
        "\n",
        "        else:\n",
        "            obs = self.x[self.dataset_idx]\n",
        "            self.expected_action = int(self.y[self.dataset_idx])\n",
        "\n",
        "            self.dataset_idx += 1\n",
        "            if self.dataset_idx >= len(self.x):\n",
        "                raise StopIteration()\n",
        "\n",
        "        return obs"
      ],
      "metadata": {
        "id": "Ph3oRxGG03mL"
      },
      "execution_count": 4,
      "outputs": []
    },
    {
      "cell_type": "code",
      "source": [
        "env = CifarEnv()\n",
        "test_env = CifarEnvTest()"
      ],
      "metadata": {
        "id": "5FtaYYx1z2PD"
      },
      "execution_count": 5,
      "outputs": []
    },
    {
      "cell_type": "code",
      "source": [
        "class QFunction(torch.nn.Module):\n",
        "\n",
        "    def __init__(self,):\n",
        "        super().__init__()\n",
        "        self.network = nn.Sequential(\n",
        "            nn.Conv2d(3, 32, kernel_size=3, padding=1),\n",
        "            nn.ReLU(),\n",
        "            nn.Conv2d(32, 64, kernel_size=3, stride=1, padding=1),\n",
        "            nn.ReLU(),\n",
        "            nn.MaxPool2d(2, 2), # output: 64 x 16 x 16\n",
        "            nn.BatchNorm2d(64),\n",
        "\n",
        "            nn.Conv2d(64, 128, kernel_size=3, stride=1, padding=1),\n",
        "            nn.ReLU(),\n",
        "            nn.Conv2d(128, 128, kernel_size=3, stride=1, padding=1),\n",
        "            nn.ReLU(),\n",
        "            nn.MaxPool2d(2, 2), # output: 128 x 8 x 8\n",
        "            nn.BatchNorm2d(128),\n",
        "\n",
        "            nn.Conv2d(128, 256, kernel_size=3, stride=1, padding=1),\n",
        "            nn.ReLU(),\n",
        "            nn.Conv2d(256, 256, kernel_size=3, stride=1, padding=1),\n",
        "            nn.ReLU(),\n",
        "            nn.MaxPool2d(2, 2), # output: 256 x 4 x 4\n",
        "            nn.BatchNorm2d(256),\n",
        "\n",
        "            nn.Flatten(),\n",
        "            nn.Linear(256*4*4, 1024),\n",
        "            nn.ReLU(),\n",
        "            nn.Linear(1024, 512),\n",
        "            nn.ReLU(),\n",
        "            nn.Linear(512, 10))\n",
        "\n",
        "    def forward(self, x):\n",
        "        h = self.network(x)\n",
        "        return pfrl.action_value.DiscreteActionValue(h)\n",
        "\n",
        "obs_size = env.observation_space.low.size\n",
        "n_actions = env.action_space.n\n",
        "q_func = QFunction()"
      ],
      "metadata": {
        "id": "gipDqJhB0lJ4"
      },
      "execution_count": 6,
      "outputs": []
    },
    {
      "cell_type": "code",
      "source": [
        "# Use Adam to optimize q_func. eps=1e-2 is for stability.\n",
        "optimizer = torch.optim.Adam(q_func.parameters(), eps=1e-2)\n",
        "# Set the discount factor that discounts future rewards.\n",
        "gamma = 1\n",
        "\n",
        "# Use epsilon-greedy for exploration\n",
        "explorer = pfrl.explorers.ConstantEpsilonGreedy(\n",
        "    epsilon=0.3, random_action_func=env.action_space.sample)\n",
        "explorer_2 = pfrl.explorers.LinearDecayEpsilonGreedy(start_epsilon=0.9, end_epsilon=0.01, decay_steps=50000, random_action_func = env.action_space.sample)\n",
        "# DQN uses Experience Replay.\n",
        "# Specify a replay buffer and its capacity.\n",
        "replay_buffer = pfrl.replay_buffers.PrioritizedReplayBuffer(capacity=10 ** 6)\n",
        "\n",
        "# Since observations from CartPole-v0 is numpy.float64 while\n",
        "# As PyTorch only accepts numpy.float32 by default, specify\n",
        "# a converter as a feature extractor function phi.\n",
        "phi = lambda x:np.resize(x,(3,32,32)).astype(np.float32, copy=False)\n",
        "\n",
        "# Set the device id to use GPU. To use CPU only, set it to -1.\n",
        "gpu = 0\n",
        "\n",
        "# Now create an agent that will interact with the environment.\n",
        "agent = pfrl.agents.DoubleDQN(\n",
        "    q_func,\n",
        "    optimizer,\n",
        "    replay_buffer,\n",
        "    gamma,\n",
        "    explorer_2,\n",
        "    replay_start_size=10000,\n",
        "    update_interval=1,\n",
        "    target_update_interval=10000,\n",
        "    phi = phi,\n",
        "    gpu=gpu,\n",
        ")"
      ],
      "metadata": {
        "id": "0mLPjVYw978j"
      },
      "execution_count": 7,
      "outputs": []
    },
    {
      "cell_type": "code",
      "source": [
        "# Set up the logger to print info messages for understandability.\n",
        "import logging\n",
        "import sys\n",
        "import time\n",
        "start_time = time.time()\n",
        "logging.basicConfig(level=logging.INFO, stream=sys.stdout, format='')\n",
        "eval_ep = 10000\n",
        "pfrl.experiments.train_agent_with_evaluation(\n",
        "    agent,\n",
        "    env,\n",
        "    steps=100000,           # Train the agent for 2000 steps\n",
        "    eval_n_steps=None,       # We evaluate for episodes, not time\n",
        "    eval_n_episodes=1,       # 10 episodes are sampled for each evaluation\n",
        "    train_max_episode_len=1,  # Maximum length of each episode\n",
        "    eval_max_episode_len=10000,\n",
        "    eval_interval=20000,   # Evaluate the agent after every 1000 steps\n",
        "    outdir='result',      # Save everything to 'result' directory\n",
        "    eval_env = test_env,\n",
        ")"
      ],
      "metadata": {
        "id": "5WrlEmY__ydJ",
        "outputId": "d5584baf-533b-4115-c06e-527ee4fb726e",
        "colab": {
          "base_uri": "https://localhost:8080/"
        }
      },
      "execution_count": 8,
      "outputs": [
        {
          "output_type": "execute_result",
          "data": {
            "text/plain": [
              "(<pfrl.agents.double_dqn.DoubleDQN at 0x79286776be50>,\n",
              " [{'average_q': 0.21237372,\n",
              "   'average_loss': 0.0036870955361519007,\n",
              "   'cumulative_steps': 20000,\n",
              "   'n_updates': 10001,\n",
              "   'rlen': 20000,\n",
              "   'eval_score': 3700.0},\n",
              "  {'average_q': 0.34901989,\n",
              "   'average_loss': 0.003966008767019957,\n",
              "   'cumulative_steps': 40000,\n",
              "   'n_updates': 30001,\n",
              "   'rlen': 40000,\n",
              "   'eval_score': 4345.0},\n",
              "  {'average_q': 0.44182006,\n",
              "   'average_loss': 0.003636181562906131,\n",
              "   'cumulative_steps': 60000,\n",
              "   'n_updates': 50001,\n",
              "   'rlen': 60000,\n",
              "   'eval_score': 4661.0},\n",
              "  {'average_q': 0.5190564,\n",
              "   'average_loss': 0.0026982996793230994,\n",
              "   'cumulative_steps': 80000,\n",
              "   'n_updates': 70001,\n",
              "   'rlen': 80000,\n",
              "   'eval_score': 4890.0},\n",
              "  {'average_q': 0.5582751,\n",
              "   'average_loss': 0.001845650130417198,\n",
              "   'cumulative_steps': 100000,\n",
              "   'n_updates': 90001,\n",
              "   'rlen': 100000,\n",
              "   'eval_score': 4983.0}])"
            ]
          },
          "metadata": {},
          "execution_count": 8
        }
      ]
    },
    {
      "cell_type": "code",
      "source": [
        "print(\"DQN Training Time:\", time.time() - start_time)"
      ],
      "metadata": {
        "id": "EmYWlWo0Pe0l",
        "outputId": "4e90dc2d-d57d-4764-ba44-ffb7543ca765",
        "colab": {
          "base_uri": "https://localhost:8080/"
        }
      },
      "execution_count": 9,
      "outputs": [
        {
          "output_type": "stream",
          "name": "stdout",
          "text": [
            "DQN Training Time: 1795.4009108543396\n"
          ]
        }
      ]
    },
    {
      "cell_type": "code",
      "source": [
        "!zip -r /content/result.zip /content/result"
      ],
      "metadata": {
        "id": "OS6tmWX89Kfl",
        "outputId": "877503fa-07c1-4b3f-97be-ab0d801419c7",
        "colab": {
          "base_uri": "https://localhost:8080/"
        }
      },
      "execution_count": 14,
      "outputs": [
        {
          "output_type": "stream",
          "name": "stderr",
          "text": [
            "/usr/local/lib/python3.10/dist-packages/ipykernel/ipkernel.py:283: DeprecationWarning: `should_run_async` will not call `transform_cell` automatically in the future. Please pass the result to `transformed_cell` argument and any exception that happen during thetransform in `preprocessing_exc_tuple` in IPython 7.17 and above.\n",
            "  and should_run_async(code)\n"
          ]
        },
        {
          "output_type": "stream",
          "name": "stdout",
          "text": [
            "  adding: content/result/ (stored 0%)\n",
            "  adding: content/result/scores.txt (deflated 53%)\n",
            "  adding: content/result/100000_finish/ (stored 0%)\n",
            "  adding: content/result/100000_finish/optimizer.pt (deflated 10%)\n",
            "  adding: content/result/100000_finish/model.pt (deflated 8%)\n",
            "  adding: content/result/100000_finish/target_model.pt (deflated 8%)\n",
            "  adding: content/result/best/ (stored 0%)\n",
            "  adding: content/result/best/optimizer.pt (deflated 10%)\n",
            "  adding: content/result/best/model.pt (deflated 8%)\n",
            "  adding: content/result/best/target_model.pt (deflated 8%)\n"
          ]
        }
      ]
    },
    {
      "cell_type": "code",
      "source": [
        "from google.colab import files\n",
        "files.download(\"/content/result.zip\")"
      ],
      "metadata": {
        "id": "NrOOf8xb9_m6",
        "outputId": "3c55572f-cdee-4629-e501-422bbab4aff0",
        "colab": {
          "base_uri": "https://localhost:8080/",
          "height": 17
        }
      },
      "execution_count": 15,
      "outputs": [
        {
          "output_type": "display_data",
          "data": {
            "text/plain": [
              "<IPython.core.display.Javascript object>"
            ],
            "application/javascript": [
              "\n",
              "    async function download(id, filename, size) {\n",
              "      if (!google.colab.kernel.accessAllowed) {\n",
              "        return;\n",
              "      }\n",
              "      const div = document.createElement('div');\n",
              "      const label = document.createElement('label');\n",
              "      label.textContent = `Downloading \"${filename}\": `;\n",
              "      div.appendChild(label);\n",
              "      const progress = document.createElement('progress');\n",
              "      progress.max = size;\n",
              "      div.appendChild(progress);\n",
              "      document.body.appendChild(div);\n",
              "\n",
              "      const buffers = [];\n",
              "      let downloaded = 0;\n",
              "\n",
              "      const channel = await google.colab.kernel.comms.open(id);\n",
              "      // Send a message to notify the kernel that we're ready.\n",
              "      channel.send({})\n",
              "\n",
              "      for await (const message of channel.messages) {\n",
              "        // Send a message to notify the kernel that we're ready.\n",
              "        channel.send({})\n",
              "        if (message.buffers) {\n",
              "          for (const buffer of message.buffers) {\n",
              "            buffers.push(buffer);\n",
              "            downloaded += buffer.byteLength;\n",
              "            progress.value = downloaded;\n",
              "          }\n",
              "        }\n",
              "      }\n",
              "      const blob = new Blob(buffers, {type: 'application/binary'});\n",
              "      const a = document.createElement('a');\n",
              "      a.href = window.URL.createObjectURL(blob);\n",
              "      a.download = filename;\n",
              "      div.appendChild(a);\n",
              "      a.click();\n",
              "      div.remove();\n",
              "    }\n",
              "  "
            ]
          },
          "metadata": {}
        },
        {
          "output_type": "display_data",
          "data": {
            "text/plain": [
              "<IPython.core.display.Javascript object>"
            ],
            "application/javascript": [
              "download(\"download_5671a205-48df-4794-9df9-1508e76e8f83\", \"result.zip\", 170880063)"
            ]
          },
          "metadata": {}
        }
      ]
    }
  ]
}