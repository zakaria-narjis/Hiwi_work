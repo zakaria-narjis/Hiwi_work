{
  "nbformat": 4,
  "nbformat_minor": 0,
  "metadata": {
    "colab": {
      "provenance": [],
      "gpuType": "T4"
    },
    "kernelspec": {
      "name": "python3",
      "display_name": "Python 3"
    },
    "language_info": {
      "name": "python"
    },
    "accelerator": "GPU"
  },
  "cells": [
    {
      "cell_type": "code",
      "execution_count": 1,
      "metadata": {
        "id": "MMg868y1ZCxm"
      },
      "outputs": [],
      "source": [
        "%%capture\n",
        "!pip install --upgrade pip\n",
        "!pip install gymnasium\n",
        "!pip install pfrl"
      ]
    },
    {
      "cell_type": "code",
      "source": [
        "import pfrl\n",
        "import torch\n",
        "from torch import nn\n",
        "import gymnasium as gym\n",
        "from gymnasium import spaces\n",
        "import numpy as np\n",
        "import tensorflow as tf\n",
        "import random"
      ],
      "metadata": {
        "id": "PuTam-exHvm7"
      },
      "execution_count": 2,
      "outputs": []
    },
    {
      "cell_type": "code",
      "source": [
        "(x_train, y_train), (x_test, y_test) = tf.keras.datasets.cifar10.load_data()\n",
        "assert x_train.shape == (50000, 32, 32, 3)\n",
        "assert x_test.shape == (10000, 32, 32, 3)\n",
        "assert y_train.shape == (50000, 1)\n",
        "assert y_test.shape == (10000, 1)"
      ],
      "metadata": {
        "colab": {
          "base_uri": "https://localhost:8080/"
        },
        "id": "0xXfKvo5Hwjf",
        "outputId": "a40c07f0-66f5-4c0d-c480-1e38bd39e4b8"
      },
      "execution_count": 3,
      "outputs": [
        {
          "output_type": "stream",
          "name": "stderr",
          "text": [
            "/usr/local/lib/python3.10/dist-packages/ipykernel/ipkernel.py:283: DeprecationWarning: `should_run_async` will not call `transform_cell` automatically in the future. Please pass the result to `transformed_cell` argument and any exception that happen during thetransform in `preprocessing_exc_tuple` in IPython 7.17 and above.\n",
            "  and should_run_async(code)\n"
          ]
        }
      ]
    },
    {
      "cell_type": "code",
      "source": [
        "class CifarEnv(gym.Env):\n",
        "\n",
        "    def __init__(self,):\n",
        "\n",
        "        self.observation_space = spaces.Box(low=0, high=255, shape=(32, 32, 3), dtype=np.uint8)\n",
        "\n",
        "        self.action_space = spaces.Discrete(10)\n",
        "        self.expected_action = 0\n",
        "\n",
        "        # assert render_mode is None or render_mode in self.metadata[\"render_modes\"]\n",
        "        self.render_mode = None\n",
        "        self.x, self.y = (x_train, y_train)\n",
        "        self.random = True\n",
        "        self.images_per_episode = 1\n",
        "        self.dataset_idx = 0\n",
        "\n",
        "    def _get_info(self):\n",
        "      return 0\n",
        "\n",
        "    def step(self, action):\n",
        "        done = False\n",
        "        reward = int(action == self.expected_action)\n",
        "\n",
        "        obs = self._next_obs()\n",
        "\n",
        "        self.step_count += 1\n",
        "        if self.step_count >= self.images_per_episode:\n",
        "            done = True\n",
        "\n",
        "        return obs, reward, done, {}\n",
        "\n",
        "    def reset(self, seed=None, options=None):\n",
        "        self.step_count = 0\n",
        "        obs = self._next_obs()\n",
        "        return obs\n",
        "\n",
        "    def _next_obs(self):\n",
        "        if self.random:\n",
        "            next_obs_idx = random.randint(0, len(self.x) - 1)\n",
        "            self.expected_action = int(self.y[next_obs_idx])\n",
        "            obs = self.x[next_obs_idx]\n",
        "\n",
        "        else:\n",
        "            obs = self.x[self.dataset_idx]\n",
        "            self.expected_action = int(self.y[self.dataset_idx])\n",
        "\n",
        "            self.dataset_idx += 1\n",
        "            if self.dataset_idx >= len(self.x):\n",
        "                raise StopIteration()\n",
        "\n",
        "        return obs\n",
        "\n",
        "class CifarEnvTest(gym.Env):\n",
        "\n",
        "    def __init__(self,):\n",
        "\n",
        "        self.observation_space = spaces.Box(low=0, high=255, shape=(32, 32, 3), dtype=np.uint8)\n",
        "\n",
        "        self.action_space = spaces.Discrete(10)\n",
        "        self.expected_action = 0\n",
        "\n",
        "        # assert render_mode is None or render_mode in self.metadata[\"render_modes\"]\n",
        "        self.render_mode = None\n",
        "        self.x, self.y = (x_test, y_test)\n",
        "        self.random = True\n",
        "        self.images_per_episode = 10000\n",
        "        self.dataset_idx = 0\n",
        "\n",
        "    def _get_info(self):\n",
        "      return 0\n",
        "\n",
        "    def step(self, action):\n",
        "        done = False\n",
        "        reward = int(action == self.expected_action)\n",
        "\n",
        "        obs = self._next_obs()\n",
        "\n",
        "        self.step_count += 1\n",
        "        if self.step_count >= self.images_per_episode:\n",
        "            done = True\n",
        "\n",
        "        return obs, reward, done, {}\n",
        "\n",
        "    def reset(self, seed=None, options=None):\n",
        "        self.step_count = 0\n",
        "        obs = self._next_obs()\n",
        "        return obs\n",
        "\n",
        "    def _next_obs(self):\n",
        "        if self.random:\n",
        "            next_obs_idx = random.randint(0, len(self.x) - 1)\n",
        "            self.expected_action = int(self.y[next_obs_idx])\n",
        "            obs = self.x[next_obs_idx]\n",
        "\n",
        "        else:\n",
        "            obs = self.x[self.dataset_idx]\n",
        "            self.expected_action = int(self.y[self.dataset_idx])\n",
        "\n",
        "            self.dataset_idx += 1\n",
        "            if self.dataset_idx >= len(self.x):\n",
        "                raise StopIteration()\n",
        "\n",
        "        return obs"
      ],
      "metadata": {
        "id": "2RWpWr4FHyau"
      },
      "execution_count": 4,
      "outputs": []
    },
    {
      "cell_type": "code",
      "source": [
        "env = CifarEnv()\n",
        "test_env = CifarEnvTest()"
      ],
      "metadata": {
        "id": "D1Fw0N7QH0gn"
      },
      "execution_count": 5,
      "outputs": []
    },
    {
      "cell_type": "code",
      "source": [
        "class QFunction(torch.nn.Module):\n",
        "\n",
        "    def __init__(self,):\n",
        "        super().__init__()\n",
        "        self.network = nn.Sequential(\n",
        "            nn.Conv2d(3, 32, kernel_size=3, padding=1),\n",
        "            nn.ReLU(),\n",
        "            nn.Conv2d(32, 64, kernel_size=3, stride=1, padding=1),\n",
        "            nn.ReLU(),\n",
        "            nn.MaxPool2d(2, 2), # output: 64 x 16 x 16\n",
        "            nn.BatchNorm2d(64),\n",
        "\n",
        "            nn.Conv2d(64, 128, kernel_size=3, stride=1, padding=1),\n",
        "            nn.ReLU(),\n",
        "            nn.Conv2d(128, 128, kernel_size=3, stride=1, padding=1),\n",
        "            nn.ReLU(),\n",
        "            nn.MaxPool2d(2, 2), # output: 128 x 8 x 8\n",
        "            nn.BatchNorm2d(128),\n",
        "\n",
        "            nn.Conv2d(128, 256, kernel_size=3, stride=1, padding=1),\n",
        "            nn.ReLU(),\n",
        "            nn.Conv2d(256, 256, kernel_size=3, stride=1, padding=1),\n",
        "            nn.ReLU(),\n",
        "            nn.MaxPool2d(2, 2), # output: 256 x 4 x 4\n",
        "            nn.BatchNorm2d(256),\n",
        "\n",
        "            nn.Flatten(),\n",
        "            nn.Linear(256*4*4, 1024),\n",
        "            nn.ReLU(),\n",
        "            nn.Linear(1024, 512),\n",
        "            nn.ReLU(),\n",
        "            nn.Linear(512,256),\n",
        "            nn.ReLU(),\n",
        "            pfrl.nn.Branched(\n",
        "                nn.Sequential(nn.Linear(256, 10),\n",
        "                pfrl.policies.SoftmaxCategoricalHead(),\n",
        "            ),\n",
        "            nn.Linear(256, 1),\n",
        "            )\n",
        "            )\n",
        "\n",
        "    def forward(self, x):\n",
        "        h = self.network(x)\n",
        "        return h\n",
        "\n",
        "obs_size = env.observation_space.low.size\n",
        "n_actions = env.action_space.n\n",
        "q_func = QFunction()"
      ],
      "metadata": {
        "id": "M7kHmPyhL1j5"
      },
      "execution_count": 6,
      "outputs": []
    },
    {
      "cell_type": "code",
      "source": [
        "# optimizer = torch.optim.Adam(q_func.parameters(), eps=1e-2)\n",
        "optimizer = pfrl.optimizers.RMSpropEpsInsideSqrt(\n",
        "        q_func.parameters(),\n",
        "        lr=7e-4,\n",
        "        eps=1e-5,\n",
        "        alpha=0.99,\n",
        "    )\n",
        "phi = lambda x:np.resize(x/255.0,(3,32,32)).astype(np.float32, copy=False)\n",
        "gamma = 1\n",
        "gpu = 0\n",
        "tau = 0.95\n",
        "agent = pfrl.agents.A2C(\n",
        "        q_func,\n",
        "        optimizer,\n",
        "        gamma=gamma,\n",
        "        gpu=gpu,\n",
        "        num_processes=1,\n",
        "        update_steps=1,\n",
        "        phi=phi,\n",
        "        use_gae=False,\n",
        "        tau=tau,\n",
        "        max_grad_norm=40,\n",
        "    )"
      ],
      "metadata": {
        "id": "xDLphXrMM7fr"
      },
      "execution_count": 7,
      "outputs": []
    },
    {
      "cell_type": "code",
      "source": [
        "import logging\n",
        "import sys\n",
        "import time\n",
        "start_time = time.time()\n",
        "logging.basicConfig(level=logging.INFO, stream=sys.stdout, format='')\n",
        "eval_ep = 10000\n",
        "pfrl.experiments.train_agent_with_evaluation(\n",
        "    agent,\n",
        "    env,\n",
        "    steps=100000,           # Train the agent for 2000 steps\n",
        "    eval_n_steps=None,       # We evaluate for episodes, not time\n",
        "    eval_n_episodes=1,       # 10 episodes are sampled for each evaluation\n",
        "    train_max_episode_len=1,  # Maximum length of each episode\n",
        "    eval_max_episode_len=10000,\n",
        "    eval_interval=20000,   # Evaluate the agent after every 1000 steps\n",
        "    outdir='result',      # Save everything to 'result' directory\n",
        "    eval_env = test_env,\n",
        ")"
      ],
      "metadata": {
        "colab": {
          "base_uri": "https://localhost:8080/"
        },
        "id": "7eLdcPGjPffx",
        "outputId": "ad57f5f7-070f-40cf-dff6-cf455620ab06"
      },
      "execution_count": 8,
      "outputs": [
        {
          "output_type": "stream",
          "name": "stderr",
          "text": [
            "/usr/local/lib/python3.10/dist-packages/pfrl/agents/a2c.py:266: UserWarning: A2C currently does not support resetting an env without reaching a terminal state during training. When receiving True in batch_reset, A2C considers it as True in batch_done instead.\n",
            "  warnings.warn(\n",
            "/usr/local/lib/python3.10/dist-packages/pfrl/optimizers/rmsprop_eps_inside_sqrt.py:44: UserWarning: This overload of addcmul_ is deprecated:\n",
            "\taddcmul_(Number value, Tensor tensor1, Tensor tensor2)\n",
            "Consider using one of the following signatures instead:\n",
            "\taddcmul_(Tensor tensor1, Tensor tensor2, *, Number value) (Triggered internally at ../torch/csrc/utils/python_arg_parser.cpp:1485.)\n",
            "  square_avg.mul_(alpha).addcmul_(1 - alpha, grad, grad)\n"
          ]
        },
        {
          "output_type": "execute_result",
          "data": {
            "text/plain": [
              "(<pfrl.agents.a2c.A2C at 0x7a1bf775add0>,\n",
              " [{'average_actor': -0.008877603044557692,\n",
              "   'average_value': 0.11102728546506845,\n",
              "   'average_entropy': 0.5429342656649078,\n",
              "   'eval_score': 987.0},\n",
              "  {'average_actor': -0.015379263418809295,\n",
              "   'average_value': 0.12774680332310334,\n",
              "   'average_entropy': 0.6325116837493275,\n",
              "   'eval_score': 1126.0},\n",
              "  {'average_actor': -0.013288387806436775,\n",
              "   'average_value': 0.1262041960344501,\n",
              "   'average_entropy': 0.8231851461669987,\n",
              "   'eval_score': 1457.0},\n",
              "  {'average_actor': -0.005292824712974315,\n",
              "   'average_value': 0.13957002177934297,\n",
              "   'average_entropy': 0.5157823308716752,\n",
              "   'eval_score': 1622.0},\n",
              "  {'average_actor': 0.00802511109145072,\n",
              "   'average_value': 0.13675678698733135,\n",
              "   'average_entropy': 0.7241070657438216,\n",
              "   'eval_score': 1504.0}])"
            ]
          },
          "metadata": {},
          "execution_count": 8
        }
      ]
    }
  ]
}